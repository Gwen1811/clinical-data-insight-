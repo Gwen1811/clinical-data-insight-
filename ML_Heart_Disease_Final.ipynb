{
 "cells": [
  {
   "cell_type": "code",
   "execution_count": 1,
   "id": "526dd37d-2e1b-4edd-a227-23ade4a15e51",
   "metadata": {},
   "outputs": [],
   "source": [
    "import joblib\n",
    "import numpy as np"
   ]
  },
  {
   "cell_type": "code",
   "execution_count": 2,
   "id": "81c41ab1-ff9c-40e1-a393-e7666b490e84",
   "metadata": {},
   "outputs": [
    {
     "name": "stderr",
     "output_type": "stream",
     "text": [
      "C:\\Users\\Caroline\\anaconda3\\Lib\\site-packages\\dask\\dataframe\\_pyarrow_compat.py:23: UserWarning: You are using pyarrow version 11.0.0 which is known to be insecure. See https://www.cve.org/CVERecord?id=CVE-2023-47248 for further details. Please upgrade to pyarrow>=14.0.1 or install pyarrow-hotfix to patch your current version.\n",
      "  warnings.warn(\n"
     ]
    }
   ],
   "source": [
    "import pandas as pd\n",
    "import sklearn\n",
    "import imblearn\n",
    "from pandas import read_csv # For dataframes\n",
    "from pandas import DataFrame # For dataframes\n",
    "from numpy import ravel # For matrices\n",
    "import matplotlib.pyplot as plt # For plotting data\n",
    "import seaborn as sns # For plotting data\n",
    "from sklearn.model_selection import train_test_split # For train/test splits\n",
    "#from sklearn.neighbors import KNeighborsClassifier # The k-nearest neighbor classifier\n",
    "from sklearn.feature_selection import VarianceThreshold # Feature selector\n",
    "from sklearn.pipeline import Pipeline # For setting up pipeline\n",
    "# Various pre-processing steps\n",
    "from sklearn.preprocessing import Normalizer, RobustScaler, StandardScaler, MinMaxScaler\n",
    "from sklearn.preprocessing import PowerTransformer, MaxAbsScaler, LabelEncoder\n",
    "from sklearn.model_selection import GridSearchCV # For optimization\n",
    "from sklearn.naive_bayes import GaussianNB\n",
    "from sklearn.ensemble import RandomForestClassifier\n",
    "from sklearn.linear_model import LogisticRegression\n",
    "from sklearn.model_selection import train_test_split, cross_val_score, cross_val_predict\n",
    "from sklearn.svm import SVC\n",
    "from sklearn.neural_network import MLPClassifier\n",
    "from xgboost import XGBClassifier\n",
    "from lightgbm import LGBMClassifier\n",
    "from catboost import CatBoostClassifier\n",
    "import warnings\n",
    "warnings.filterwarnings('ignore')\n",
    "from sklearn.metrics import accuracy_score, precision_score, recall_score, f1_score, roc_auc_score, classification_report\n",
    "from imblearn.over_sampling import RandomOverSampler"
   ]
  },
  {
   "cell_type": "code",
   "execution_count": 3,
   "id": "a80e22fe-273a-4766-81cd-06b3bb045f5b",
   "metadata": {},
   "outputs": [],
   "source": [
    "warnings.filterwarnings('ignore')"
   ]
  },
  {
   "cell_type": "code",
   "execution_count": 4,
   "id": "47923cf1-84cf-440f-9e2c-0682407f9be9",
   "metadata": {},
   "outputs": [],
   "source": [
    "df_heart_diseases = pd.read_csv('df_heart_diseases_clean.csv', low_memory=False)"
   ]
  },
  {
   "cell_type": "code",
   "execution_count": 5,
   "id": "7aaf440d-feaf-4c54-b1dc-0a14331f452a",
   "metadata": {},
   "outputs": [
    {
     "data": {
      "text/plain": [
       "Index(['age', 'sex', 'cp', 'trestbps', 'chol', 'fbs', 'restecg', 'thalach',\n",
       "       'exang', 'oldpeak', 'slope', 'ca', 'thal', 'target'],\n",
       "      dtype='object')"
      ]
     },
     "execution_count": 5,
     "metadata": {},
     "output_type": "execute_result"
    }
   ],
   "source": [
    "df_heart_diseases.columns"
   ]
  },
  {
   "cell_type": "code",
   "execution_count": 6,
   "id": "b0208e72-b487-4b6b-8c36-01707b70a9dd",
   "metadata": {},
   "outputs": [],
   "source": [
    "# Définition des x et du y\n",
    "X=df_heart_diseases.drop('target',axis=1)\n",
    "y=df_heart_diseases['target']"
   ]
  },
  {
   "cell_type": "code",
   "execution_count": 7,
   "id": "30f35915-d1bc-4262-8ece-94dc473bf675",
   "metadata": {},
   "outputs": [
    {
     "data": {
      "text/plain": [
       "<Axes: ylabel='target'>"
      ]
     },
     "execution_count": 7,
     "metadata": {},
     "output_type": "execute_result"
    },
    {
     "data": {
      "image/png": "[encoded data removed]",
      "text/plain": [
       "<Figure size 640x480 with 1 Axes>"
      ]
     },
     "metadata": {},
     "output_type": "display_data"
    }
   ],
   "source": [
    "# Affichage actuel des classes (malades / sains)\n",
    "y.value_counts().plot.pie(autopct='%.2f')"
   ]
  },
  {
   "cell_type": "code",
   "execution_count": 8,
   "id": "cc5e1e5a-9bbb-4eff-aa17-340a24db8384",
   "metadata": {},
   "outputs": [],
   "source": [
    "scaler_list1= [Normalizer(), StandardScaler(), MinMaxScaler()]\n",
    "scaler_list2= [ MaxAbsScaler(), RobustScaler(),PowerTransformer()]\n",
    "classifier_list= [ RandomForestClassifier(), LogisticRegression(), SVC(),\n",
    "                  MLPClassifier(), XGBClassifier(), LGBMClassifier(),\n",
    "                  CatBoostClassifier(), GaussianNB() ]"
   ]
  },
  {
   "cell_type": "code",
   "execution_count": 9,
   "id": "236fadfc-ccd6-4059-bd15-4b972b99fd43",
   "metadata": {},
   "outputs": [
    {
     "data": {
      "text/plain": [
       "\"'results1= []\\nfor scaler in scaler_list1:\\n    for classifier in classifier_list:\\n        pipe = Pipeline([\\n        ('scaler', scaler),\\n        ('classifier', classifier)\\n        ])\\n        cross= cross_val_score(pipe, X, y, cv= 5, scoring= 'accuracy')\\n        y_pred = cross_val_predict(pipe, X, y, cv= 5)\\n        Accuracy= accuracy_score(y, y_pred),\\n        Precision= precision_score(y, y_pred),\\n        Recall= recall_score(y, y_pred),\\n        F1_Score= f1_score(y, y_pred),\\n        ROC_AUC= roc_auc_score(y, y_pred)\\n        results1.append((classifier.__class__.__name__, scaler.__class__.__name__, \\n                        Accuracy, Precision, Recall, F1_Score, ROC_AUC))\""
      ]
     },
     "execution_count": 9,
     "metadata": {},
     "output_type": "execute_result"
    }
   ],
   "source": [
    "''''results1= []\n",
    "for scaler in scaler_list1:\n",
    "    for classifier in classifier_list:\n",
    "        pipe = Pipeline([\n",
    "        ('scaler', scaler),\n",
    "        ('classifier', classifier)\n",
    "        ])\n",
    "        cross= cross_val_score(pipe, X, y, cv= 5, scoring= 'accuracy')\n",
    "        y_pred = cross_val_predict(pipe, X, y, cv= 5)\n",
    "        Accuracy= accuracy_score(y, y_pred),\n",
    "        Precision= precision_score(y, y_pred),\n",
    "        Recall= recall_score(y, y_pred),\n",
    "        F1_Score= f1_score(y, y_pred),\n",
    "        ROC_AUC= roc_auc_score(y, y_pred)\n",
    "        results1.append((classifier.__class__.__name__, scaler.__class__.__name__, \n",
    "                        Accuracy, Precision, Recall, F1_Score, ROC_AUC))'''"
   ]
  },
  {
   "cell_type": "code",
   "execution_count": 10,
   "id": "e481a4d5-16bb-4069-af81-c7347ca69be1",
   "metadata": {},
   "outputs": [
    {
     "data": {
      "text/plain": [
       "\"results2= []\\nfor scaler in scaler_list2:\\n    for classifier in classifier_list:\\n        pipe = Pipeline([\\n        ('scaler', scaler),\\n        ('classifier', classifier)\\n        ])\\n        cross= cross_val_score(pipe, X, y, cv= 5, scoring= 'accuracy')\\n        y_pred = cross_val_predict(pipe, X, y, cv= 5)\\n        Accuracy= accuracy_score(y, y_pred),\\n        Precision= precision_score(y, y_pred),\\n        Recall= recall_score(y, y_pred),\\n        F1_Score= f1_score(y, y_pred),\\n        ROC_AUC= roc_auc_score(y, y_pred)\\n        results2.append((classifier.__class__.__name__, scaler.__class__.__name__, \\n                        Accuracy, Precision, Recall, F1_Score, ROC_AUC))\""
      ]
     },
     "execution_count": 10,
     "metadata": {},
     "output_type": "execute_result"
    }
   ],
   "source": [
    "'''results2= []\n",
    "for scaler in scaler_list2:\n",
    "    for classifier in classifier_list:\n",
    "        pipe = Pipeline([\n",
    "        ('scaler', scaler),\n",
    "        ('classifier', classifier)\n",
    "        ])\n",
    "        cross= cross_val_score(pipe, X, y, cv= 5, scoring= 'accuracy')\n",
    "        y_pred = cross_val_predict(pipe, X, y, cv= 5)\n",
    "        Accuracy= accuracy_score(y, y_pred),\n",
    "        Precision= precision_score(y, y_pred),\n",
    "        Recall= recall_score(y, y_pred),\n",
    "        F1_Score= f1_score(y, y_pred),\n",
    "        ROC_AUC= roc_auc_score(y, y_pred)\n",
    "        results2.append((classifier.__class__.__name__, scaler.__class__.__name__, \n",
    "                        Accuracy, Precision, Recall, F1_Score, ROC_AUC))'''"
   ]
  },
  {
   "cell_type": "code",
   "execution_count": 11,
   "id": "17488828-e6d3-4290-b5e1-ffc556642cef",
   "metadata": {},
   "outputs": [
    {
     "data": {
      "text/plain": [
       "\"results1 = pd.DataFrame(results1, columns=['Classifier', 'Scaler', 'Accuracy', 'Recall', 'Precision', 'F1-Score', 'ROC_AUC'])\\nresults2 = pd.DataFrame(results2, columns=['Classifier', 'Scaler', 'Accuracy', 'Recall', 'Precision', 'F1-Score', 'ROC_AUC'])\""
      ]
     },
     "execution_count": 11,
     "metadata": {},
     "output_type": "execute_result"
    }
   ],
   "source": [
    "'''results1 = pd.DataFrame(results1, columns=['Classifier', 'Scaler', 'Accuracy', 'Recall', 'Precision', 'F1-Score', 'ROC_AUC'])\n",
    "results2 = pd.DataFrame(results2, columns=['Classifier', 'Scaler', 'Accuracy', 'Recall', 'Precision', 'F1-Score', 'ROC_AUC'])'''"
   ]
  },
  {
   "cell_type": "code",
   "execution_count": 12,
   "id": "a2447dbe-cf57-44c1-b855-c6912e73ded8",
   "metadata": {},
   "outputs": [
    {
     "data": {
      "text/plain": [
       "\"total_result_undersampled= pd.concat([results1, results2], ignore_index = True)\\ntotal_result_undersampled.sort_values(by= ['Recall'], ascending= False)\""
      ]
     },
     "execution_count": 12,
     "metadata": {},
     "output_type": "execute_result"
    }
   ],
   "source": [
    "'''total_result_undersampled= pd.concat([results1, results2], ignore_index = True)\n",
    "total_result_undersampled.sort_values(by= ['Recall'], ascending= False)'''"
   ]
  },
  {
   "cell_type": "code",
   "execution_count": 13,
   "id": "77d4154a-1475-4cd5-b9d8-c5f08a51ea87",
   "metadata": {},
   "outputs": [
    {
     "data": {
      "text/plain": [
       "'scaler = PowerTransformer()\\nX_scaled = scaler.fit_transform(X)\\n\\n# Créer le modèle GaussianNB\\nnb_model = GaussianNB()\\n\\n# Définir les hyperparamètres à tester\\nparam_grid = {\\n    \\'var_smoothing\\': [1e-9, 1e-8, 1e-7]\\n}\\n\\n# Créer l\\'objet GridSearchCV avec validation croisée\\ngrid_search = GridSearchCV(estimator=nb_model, param_grid=param_grid, cv=5, scoring=\\'accuracy\\')\\n\\n# Adapter GridSearchCV aux données\\ngrid_search.fit(X_scaled, y)\\n\\n# Afficher les meilleurs paramètres\\nprint(\"Meilleurs paramètres:\", grid_search.best_params_)\\n\\n# Obtenir le meilleur score\\nprint(\"Meilleur score:\", grid_search.best_score_)'"
      ]
     },
     "execution_count": 13,
     "metadata": {},
     "output_type": "execute_result"
    }
   ],
   "source": [
    "'''scaler = PowerTransformer()\n",
    "X_scaled = scaler.fit_transform(X)\n",
    "\n",
    "# Créer le modèle GaussianNB\n",
    "nb_model = GaussianNB()\n",
    "\n",
    "# Définir les hyperparamètres à tester\n",
    "param_grid = {\n",
    "    'var_smoothing': [1e-9, 1e-8, 1e-7]\n",
    "}\n",
    "\n",
    "# Créer l'objet GridSearchCV avec validation croisée\n",
    "grid_search = GridSearchCV(estimator=nb_model, param_grid=param_grid, cv=5, scoring='accuracy')\n",
    "\n",
    "# Adapter GridSearchCV aux données\n",
    "grid_search.fit(X_scaled, y)\n",
    "\n",
    "# Afficher les meilleurs paramètres\n",
    "print(\"Meilleurs paramètres:\", grid_search.best_params_)\n",
    "\n",
    "# Obtenir le meilleur score\n",
    "print(\"Meilleur score:\", grid_search.best_score_)'''"
   ]
  },
  {
   "cell_type": "code",
   "execution_count": 14,
   "id": "e1d0f9a3-d828-46cd-9cf6-2b0158b95829",
   "metadata": {},
   "outputs": [
    {
     "data": {
      "text/plain": [
       "Index(['age', 'sex', 'cp', 'trestbps', 'chol', 'fbs', 'restecg', 'thalach',\n",
       "       'exang', 'oldpeak', 'slope', 'ca', 'thal', 'target'],\n",
       "      dtype='object')"
      ]
     },
     "execution_count": 14,
     "metadata": {},
     "output_type": "execute_result"
    }
   ],
   "source": [
    "df_heart_diseases.columns"
   ]
  },
  {
   "cell_type": "code",
   "execution_count": 15,
   "id": "9986de70-d01c-47b4-9008-c62acc8af5a0",
   "metadata": {},
   "outputs": [
    {
     "data": {
      "text/html": [
       "<style>#sk-container-id-1 {color: black;background-color: white;}#sk-container-id-1 pre{padding: 0;}#sk-container-id-1 div.sk-toggleable {background-color: white;}#sk-container-id-1 label.sk-toggleable__label {cursor: pointer;display: block;width: 100%;margin-bottom: 0;padding: 0.3em;box-sizing: border-box;text-align: center;}#sk-container-id-1 label.sk-toggleable__label-arrow:before {content: \"▸\";float: left;margin-right: 0.25em;color: #696969;}#sk-container-id-1 label.sk-toggleable__label-arrow:hover:before {color: black;}#sk-container-id-1 div.sk-estimator:hover label.sk-toggleable__label-arrow:before {color: black;}#sk-container-id-1 div.sk-toggleable__content {max-height: 0;max-width: 0;overflow: hidden;text-align: left;background-color: #f0f8ff;}#sk-container-id-1 div.sk-toggleable__content pre {margin: 0.2em;color: black;border-radius: 0.25em;background-color: #f0f8ff;}#sk-container-id-1 input.sk-toggleable__control:checked~div.sk-toggleable__content {max-height: 200px;max-width: 100%;overflow: auto;}#sk-container-id-1 input.sk-toggleable__control:checked~label.sk-toggleable__label-arrow:before {content: \"▾\";}#sk-container-id-1 div.sk-estimator input.sk-toggleable__control:checked~label.sk-toggleable__label {background-color: #d4ebff;}#sk-container-id-1 div.sk-label input.sk-toggleable__control:checked~label.sk-toggleable__label {background-color: #d4ebff;}#sk-container-id-1 input.sk-hidden--visually {border: 0;clip: rect(1px 1px 1px 1px);clip: rect(1px, 1px, 1px, 1px);height: 1px;margin: -1px;overflow: hidden;padding: 0;position: absolute;width: 1px;}#sk-container-id-1 div.sk-estimator {font-family: monospace;background-color: #f0f8ff;border: 1px dotted black;border-radius: 0.25em;box-sizing: border-box;margin-bottom: 0.5em;}#sk-container-id-1 div.sk-estimator:hover {background-color: #d4ebff;}#sk-container-id-1 div.sk-parallel-item::after {content: \"\";width: 100%;border-bottom: 1px solid gray;flex-grow: 1;}#sk-container-id-1 div.sk-label:hover label.sk-toggleable__label {background-color: #d4ebff;}#sk-container-id-1 div.sk-serial::before {content: \"\";position: absolute;border-left: 1px solid gray;box-sizing: border-box;top: 0;bottom: 0;left: 50%;z-index: 0;}#sk-container-id-1 div.sk-serial {display: flex;flex-direction: column;align-items: center;background-color: white;padding-right: 0.2em;padding-left: 0.2em;position: relative;}#sk-container-id-1 div.sk-item {position: relative;z-index: 1;}#sk-container-id-1 div.sk-parallel {display: flex;align-items: stretch;justify-content: center;background-color: white;position: relative;}#sk-container-id-1 div.sk-item::before, #sk-container-id-1 div.sk-parallel-item::before {content: \"\";position: absolute;border-left: 1px solid gray;box-sizing: border-box;top: 0;bottom: 0;left: 50%;z-index: -1;}#sk-container-id-1 div.sk-parallel-item {display: flex;flex-direction: column;z-index: 1;position: relative;background-color: white;}#sk-container-id-1 div.sk-parallel-item:first-child::after {align-self: flex-end;width: 50%;}#sk-container-id-1 div.sk-parallel-item:last-child::after {align-self: flex-start;width: 50%;}#sk-container-id-1 div.sk-parallel-item:only-child::after {width: 0;}#sk-container-id-1 div.sk-dashed-wrapped {border: 1px dashed gray;margin: 0 0.4em 0.5em 0.4em;box-sizing: border-box;padding-bottom: 0.4em;background-color: white;}#sk-container-id-1 div.sk-label label {font-family: monospace;font-weight: bold;display: inline-block;line-height: 1.2em;}#sk-container-id-1 div.sk-label-container {text-align: center;}#sk-container-id-1 div.sk-container {/* jupyter's `normalize.less` sets `[hidden] { display: none; }` but bootstrap.min.css set `[hidden] { display: none !important; }` so we also need the `!important` here to be able to override the default hidden behavior on the sphinx rendered scikit-learn.org. See: https://github.com/scikit-learn/scikit-learn/issues/21755 */display: inline-block !important;position: relative;}#sk-container-id-1 div.sk-text-repr-fallback {display: none;}</style><div id=\"sk-container-id-1\" class=\"sk-top-container\"><div class=\"sk-text-repr-fallback\"><pre>GaussianNB()</pre><b>In a Jupyter environment, please rerun this cell to show the HTML representation or trust the notebook. <br />On GitHub, the HTML representation is unable to render, please try loading this page with nbviewer.org.</b></div><div class=\"sk-container\" hidden><div class=\"sk-item\"><div class=\"sk-estimator sk-toggleable\"><input class=\"sk-toggleable__control sk-hidden--visually\" id=\"sk-estimator-id-1\" type=\"checkbox\" checked><label for=\"sk-estimator-id-1\" class=\"sk-toggleable__label sk-toggleable__label-arrow\">GaussianNB</label><div class=\"sk-toggleable__content\"><pre>GaussianNB()</pre></div></div></div></div></div>"
      ],
      "text/plain": [
       "GaussianNB()"
      ]
     },
     "execution_count": 15,
     "metadata": {},
     "output_type": "execute_result"
    }
   ],
   "source": [
    "X=df_heart_diseases.drop('target',axis=1)\n",
    "y=df_heart_diseases['target']\n",
    "\n",
    "scaler_heartDisease = PowerTransformer()\n",
    "X_scaled = scaler_heartDisease.fit_transform(X)\n",
    "\n",
    "# sauvegarde du scaler\n",
    "joblib.dump(scaler_heartDisease, 'ScalePwrTransf_HeartDisease.joblib')\n",
    "\n",
    "# Créer le modèle RandomForestClassifier avec les meilleurs paramètres\n",
    "nb_model = GaussianNB(var_smoothing = 1e-09)\n",
    "\n",
    "X_train, X_test, y_train, y_test = train_test_split(X_scaled, y, random_state=55, train_size = 0.75)\n",
    "\n",
    "# Entraîner le modèle sur l'intégralité des données\n",
    "nb_model.fit(X_train, y_train)\n"
   ]
  },
  {
   "cell_type": "code",
   "execution_count": 16,
   "id": "65a5e499-e7c2-435e-ba39-9bb18cdb411d",
   "metadata": {},
   "outputs": [
    {
     "name": "stdout",
     "output_type": "stream",
     "text": [
      "\n",
      "Score for the Train dataset : 0.8584070796460177\n",
      "Score for the Test dataset : 0.8421052631578947\n"
     ]
    }
   ],
   "source": [
    "print(\"\\nScore for the Train dataset :\", nb_model.score(X_train, y_train))\n",
    "print(\"Score for the Test dataset :\", nb_model.score(X_test, y_test))"
   ]
  },
  {
   "cell_type": "code",
   "execution_count": 25,
   "id": "43f4df7e-7f10-465d-b20e-2fe289b4cd9c",
   "metadata": {},
   "outputs": [
    {
     "data": {
      "text/plain": [
       "array([0, 1], dtype=int64)"
      ]
     },
     "execution_count": 25,
     "metadata": {},
     "output_type": "execute_result"
    }
   ],
   "source": [
    "nb_model.classes_"
   ]
  },
  {
   "cell_type": "code",
   "execution_count": 26,
   "id": "9f184234-a7ac-457c-aedf-71b464d54be8",
   "metadata": {},
   "outputs": [
    {
     "name": "stdout",
     "output_type": "stream",
     "text": [
      "          0 PREDICTED  1 PREDICTED\n",
      "0 ACTUAL           22            8\n",
      "1 ACTUAL            4           42\n"
     ]
    }
   ],
   "source": [
    "# matrice de confusion\n",
    "\n",
    "from sklearn.metrics import confusion_matrix\n",
    "\n",
    "# Convertir les classes en chaînes de caractères\n",
    "classes_str = [str(c) for c in nb_model.classes_]\n",
    "\n",
    "# Créer la matrice de confusion avec des noms de classes\n",
    "confusion_df = pd.DataFrame(data=confusion_matrix(y_true=y_test, y_pred=nb_model.predict(X_test)),\n",
    "                             index=[f\"{c} ACTUAL\" for c in classes_str],\n",
    "                             columns=[f\"{c} PREDICTED\" for c in classes_str])\n",
    "\n",
    "print(confusion_df)\n"
   ]
  },
  {
   "cell_type": "code",
   "execution_count": 17,
   "id": "fcde0e06-e6a4-476d-ab32-11fe0187d455",
   "metadata": {},
   "outputs": [
    {
     "data": {
      "text/html": [
       "<div>\n",
       "<style scoped>\n",
       "    .dataframe tbody tr th:only-of-type {\n",
       "        vertical-align: middle;\n",
       "    }\n",
       "\n",
       "    .dataframe tbody tr th {\n",
       "        vertical-align: top;\n",
       "    }\n",
       "\n",
       "    .dataframe thead th {\n",
       "        text-align: right;\n",
       "    }\n",
       "</style>\n",
       "<table border=\"1\" class=\"dataframe\">\n",
       "  <thead>\n",
       "    <tr style=\"text-align: right;\">\n",
       "      <th></th>\n",
       "      <th>age</th>\n",
       "      <th>sex</th>\n",
       "      <th>cp</th>\n",
       "      <th>trestbps</th>\n",
       "      <th>chol</th>\n",
       "      <th>fbs</th>\n",
       "      <th>restecg</th>\n",
       "      <th>thalach</th>\n",
       "      <th>exang</th>\n",
       "      <th>oldpeak</th>\n",
       "      <th>slope</th>\n",
       "      <th>ca</th>\n",
       "      <th>thal</th>\n",
       "      <th>target</th>\n",
       "    </tr>\n",
       "  </thead>\n",
       "  <tbody>\n",
       "    <tr>\n",
       "      <th>0</th>\n",
       "      <td>63</td>\n",
       "      <td>1</td>\n",
       "      <td>3</td>\n",
       "      <td>145</td>\n",
       "      <td>233</td>\n",
       "      <td>1</td>\n",
       "      <td>0</td>\n",
       "      <td>150</td>\n",
       "      <td>0</td>\n",
       "      <td>2.3</td>\n",
       "      <td>0</td>\n",
       "      <td>0</td>\n",
       "      <td>1</td>\n",
       "      <td>1</td>\n",
       "    </tr>\n",
       "    <tr>\n",
       "      <th>1</th>\n",
       "      <td>37</td>\n",
       "      <td>1</td>\n",
       "      <td>2</td>\n",
       "      <td>130</td>\n",
       "      <td>250</td>\n",
       "      <td>0</td>\n",
       "      <td>1</td>\n",
       "      <td>187</td>\n",
       "      <td>0</td>\n",
       "      <td>3.5</td>\n",
       "      <td>0</td>\n",
       "      <td>0</td>\n",
       "      <td>2</td>\n",
       "      <td>1</td>\n",
       "    </tr>\n",
       "    <tr>\n",
       "      <th>2</th>\n",
       "      <td>41</td>\n",
       "      <td>0</td>\n",
       "      <td>1</td>\n",
       "      <td>130</td>\n",
       "      <td>204</td>\n",
       "      <td>0</td>\n",
       "      <td>0</td>\n",
       "      <td>172</td>\n",
       "      <td>0</td>\n",
       "      <td>1.4</td>\n",
       "      <td>2</td>\n",
       "      <td>0</td>\n",
       "      <td>2</td>\n",
       "      <td>1</td>\n",
       "    </tr>\n",
       "    <tr>\n",
       "      <th>3</th>\n",
       "      <td>56</td>\n",
       "      <td>1</td>\n",
       "      <td>1</td>\n",
       "      <td>120</td>\n",
       "      <td>236</td>\n",
       "      <td>0</td>\n",
       "      <td>1</td>\n",
       "      <td>178</td>\n",
       "      <td>0</td>\n",
       "      <td>0.8</td>\n",
       "      <td>2</td>\n",
       "      <td>0</td>\n",
       "      <td>2</td>\n",
       "      <td>1</td>\n",
       "    </tr>\n",
       "    <tr>\n",
       "      <th>4</th>\n",
       "      <td>57</td>\n",
       "      <td>0</td>\n",
       "      <td>0</td>\n",
       "      <td>120</td>\n",
       "      <td>354</td>\n",
       "      <td>0</td>\n",
       "      <td>1</td>\n",
       "      <td>163</td>\n",
       "      <td>1</td>\n",
       "      <td>0.6</td>\n",
       "      <td>2</td>\n",
       "      <td>0</td>\n",
       "      <td>2</td>\n",
       "      <td>1</td>\n",
       "    </tr>\n",
       "    <tr>\n",
       "      <th>...</th>\n",
       "      <td>...</td>\n",
       "      <td>...</td>\n",
       "      <td>...</td>\n",
       "      <td>...</td>\n",
       "      <td>...</td>\n",
       "      <td>...</td>\n",
       "      <td>...</td>\n",
       "      <td>...</td>\n",
       "      <td>...</td>\n",
       "      <td>...</td>\n",
       "      <td>...</td>\n",
       "      <td>...</td>\n",
       "      <td>...</td>\n",
       "      <td>...</td>\n",
       "    </tr>\n",
       "    <tr>\n",
       "      <th>297</th>\n",
       "      <td>57</td>\n",
       "      <td>0</td>\n",
       "      <td>0</td>\n",
       "      <td>140</td>\n",
       "      <td>241</td>\n",
       "      <td>0</td>\n",
       "      <td>1</td>\n",
       "      <td>123</td>\n",
       "      <td>1</td>\n",
       "      <td>0.2</td>\n",
       "      <td>1</td>\n",
       "      <td>0</td>\n",
       "      <td>3</td>\n",
       "      <td>0</td>\n",
       "    </tr>\n",
       "    <tr>\n",
       "      <th>298</th>\n",
       "      <td>45</td>\n",
       "      <td>1</td>\n",
       "      <td>3</td>\n",
       "      <td>110</td>\n",
       "      <td>264</td>\n",
       "      <td>0</td>\n",
       "      <td>1</td>\n",
       "      <td>132</td>\n",
       "      <td>0</td>\n",
       "      <td>1.2</td>\n",
       "      <td>1</td>\n",
       "      <td>0</td>\n",
       "      <td>3</td>\n",
       "      <td>0</td>\n",
       "    </tr>\n",
       "    <tr>\n",
       "      <th>299</th>\n",
       "      <td>68</td>\n",
       "      <td>1</td>\n",
       "      <td>0</td>\n",
       "      <td>144</td>\n",
       "      <td>193</td>\n",
       "      <td>1</td>\n",
       "      <td>1</td>\n",
       "      <td>141</td>\n",
       "      <td>0</td>\n",
       "      <td>3.4</td>\n",
       "      <td>1</td>\n",
       "      <td>2</td>\n",
       "      <td>3</td>\n",
       "      <td>0</td>\n",
       "    </tr>\n",
       "    <tr>\n",
       "      <th>300</th>\n",
       "      <td>57</td>\n",
       "      <td>1</td>\n",
       "      <td>0</td>\n",
       "      <td>130</td>\n",
       "      <td>131</td>\n",
       "      <td>0</td>\n",
       "      <td>1</td>\n",
       "      <td>115</td>\n",
       "      <td>1</td>\n",
       "      <td>1.2</td>\n",
       "      <td>1</td>\n",
       "      <td>1</td>\n",
       "      <td>3</td>\n",
       "      <td>0</td>\n",
       "    </tr>\n",
       "    <tr>\n",
       "      <th>301</th>\n",
       "      <td>57</td>\n",
       "      <td>0</td>\n",
       "      <td>1</td>\n",
       "      <td>130</td>\n",
       "      <td>236</td>\n",
       "      <td>0</td>\n",
       "      <td>0</td>\n",
       "      <td>174</td>\n",
       "      <td>0</td>\n",
       "      <td>0.0</td>\n",
       "      <td>1</td>\n",
       "      <td>1</td>\n",
       "      <td>2</td>\n",
       "      <td>0</td>\n",
       "    </tr>\n",
       "  </tbody>\n",
       "</table>\n",
       "<p>302 rows × 14 columns</p>\n",
       "</div>"
      ],
      "text/plain": [
       "     age  sex  cp  trestbps  chol  fbs  restecg  thalach  exang  oldpeak  \\\n",
       "0     63    1   3       145   233    1        0      150      0      2.3   \n",
       "1     37    1   2       130   250    0        1      187      0      3.5   \n",
       "2     41    0   1       130   204    0        0      172      0      1.4   \n",
       "3     56    1   1       120   236    0        1      178      0      0.8   \n",
       "4     57    0   0       120   354    0        1      163      1      0.6   \n",
       "..   ...  ...  ..       ...   ...  ...      ...      ...    ...      ...   \n",
       "297   57    0   0       140   241    0        1      123      1      0.2   \n",
       "298   45    1   3       110   264    0        1      132      0      1.2   \n",
       "299   68    1   0       144   193    1        1      141      0      3.4   \n",
       "300   57    1   0       130   131    0        1      115      1      1.2   \n",
       "301   57    0   1       130   236    0        0      174      0      0.0   \n",
       "\n",
       "     slope  ca  thal  target  \n",
       "0        0   0     1       1  \n",
       "1        0   0     2       1  \n",
       "2        2   0     2       1  \n",
       "3        2   0     2       1  \n",
       "4        2   0     2       1  \n",
       "..     ...  ..   ...     ...  \n",
       "297      1   0     3       0  \n",
       "298      1   0     3       0  \n",
       "299      1   2     3       0  \n",
       "300      1   1     3       0  \n",
       "301      1   1     2       0  \n",
       "\n",
       "[302 rows x 14 columns]"
      ]
     },
     "execution_count": 17,
     "metadata": {},
     "output_type": "execute_result"
    }
   ],
   "source": [
    "df_heart_diseases"
   ]
  },
  {
   "cell_type": "markdown",
   "id": "2f66076f-b5e3-4eff-84d1-ed48bb6bf96b",
   "metadata": {},
   "source": [
    "##### import numpy as np\n",
    "\n",
    "# Entrées utilisateur\n",
    "age = float(input(\"Âge: \"))\n",
    "sex = float(input(\"Sexe (0 pour femme, 1 pour homme): \"))\n",
    "cp = float(input(\"Type de douleur thoracique (CP): \"))\n",
    "trestbps = float(input(\"Pression artérielle au repos (trestbps): \"))\n",
    "chol = float(input(\"Cholestérol sérique en mg/dl (chol): \"))\n",
    "fbs = float(input(\"Taux de sucre dans le sang à jeun > 120 mg/dl (fbs): \"))\n",
    "restecg = float(input(\"Résultats électrocardiographiques au repos (restecg): \"))\n",
    "thalach = float(input(\"Fréquence cardiaque maximale atteinte (thalach): \"))\n",
    "exang = float(input(\"Angine induite par l'exercice (exang): \"))\n",
    "oldpeak = float(input(\"Dépression de ST induite par l'exercice par rapport au repos (oldpeak): \"))\n",
    "slope = float(input(\"Pente du segment ST à l'exercice (slope): \"))\n",
    "ca = float(input(\"Nombre de vaisseaux principaux colorés par la fluoroscopie (ca): \"))\n",
    "thal = float(input(\"Résultat thallium scintigraphique (thal): \"))\n",
    "\n",
    "# Création du tableau NumPy\n",
    "my_data = np.array([[age, sex, cp, trestbps, chol, fbs, restecg, thalach, exang, oldpeak, slope, ca, thal]])\n",
    "\n",
    "# Normalisation des données avec le même scaler utilisé pour les données d'entraînement\n",
    "my_data_scaled = scaler.transform(my_data)\n",
    "\n",
    "# Faire des prédictions avec le meilleur modèle RandomForestClassifier entraîné\n",
    "predictions = nb_model.predict(my_data_scaled)\n",
    "\n",
    "# Afficher les prédictions\n",
    "if predictions[0] == 1:\n",
    "    print(\"Le patient présente une maladie cardiaque.\")\n",
    "else:\n",
    "    print(\"Le patient ne présente pas de maladie cardiaque.\")\n"
   ]
  },
  {
   "cell_type": "code",
   "execution_count": 19,
   "id": "a6d8815a-91f5-4e97-87a1-0458bb76a76f",
   "metadata": {},
   "outputs": [
    {
     "data": {
      "text/html": [
       "<div>\n",
       "<style scoped>\n",
       "    .dataframe tbody tr th:only-of-type {\n",
       "        vertical-align: middle;\n",
       "    }\n",
       "\n",
       "    .dataframe tbody tr th {\n",
       "        vertical-align: top;\n",
       "    }\n",
       "\n",
       "    .dataframe thead th {\n",
       "        text-align: right;\n",
       "    }\n",
       "</style>\n",
       "<table border=\"1\" class=\"dataframe\">\n",
       "  <thead>\n",
       "    <tr style=\"text-align: right;\">\n",
       "      <th></th>\n",
       "      <th>age</th>\n",
       "      <th>sex</th>\n",
       "      <th>cp</th>\n",
       "      <th>trestbps</th>\n",
       "      <th>chol</th>\n",
       "      <th>fbs</th>\n",
       "      <th>restecg</th>\n",
       "      <th>thalach</th>\n",
       "      <th>exang</th>\n",
       "      <th>oldpeak</th>\n",
       "      <th>slope</th>\n",
       "      <th>ca</th>\n",
       "      <th>thal</th>\n",
       "      <th>target</th>\n",
       "    </tr>\n",
       "  </thead>\n",
       "  <tbody>\n",
       "    <tr>\n",
       "      <th>0</th>\n",
       "      <td>63</td>\n",
       "      <td>1</td>\n",
       "      <td>3</td>\n",
       "      <td>145</td>\n",
       "      <td>233</td>\n",
       "      <td>1</td>\n",
       "      <td>0</td>\n",
       "      <td>150</td>\n",
       "      <td>0</td>\n",
       "      <td>2.3</td>\n",
       "      <td>0</td>\n",
       "      <td>0</td>\n",
       "      <td>1</td>\n",
       "      <td>1</td>\n",
       "    </tr>\n",
       "    <tr>\n",
       "      <th>1</th>\n",
       "      <td>37</td>\n",
       "      <td>1</td>\n",
       "      <td>2</td>\n",
       "      <td>130</td>\n",
       "      <td>250</td>\n",
       "      <td>0</td>\n",
       "      <td>1</td>\n",
       "      <td>187</td>\n",
       "      <td>0</td>\n",
       "      <td>3.5</td>\n",
       "      <td>0</td>\n",
       "      <td>0</td>\n",
       "      <td>2</td>\n",
       "      <td>1</td>\n",
       "    </tr>\n",
       "    <tr>\n",
       "      <th>2</th>\n",
       "      <td>41</td>\n",
       "      <td>0</td>\n",
       "      <td>1</td>\n",
       "      <td>130</td>\n",
       "      <td>204</td>\n",
       "      <td>0</td>\n",
       "      <td>0</td>\n",
       "      <td>172</td>\n",
       "      <td>0</td>\n",
       "      <td>1.4</td>\n",
       "      <td>2</td>\n",
       "      <td>0</td>\n",
       "      <td>2</td>\n",
       "      <td>1</td>\n",
       "    </tr>\n",
       "    <tr>\n",
       "      <th>3</th>\n",
       "      <td>56</td>\n",
       "      <td>1</td>\n",
       "      <td>1</td>\n",
       "      <td>120</td>\n",
       "      <td>236</td>\n",
       "      <td>0</td>\n",
       "      <td>1</td>\n",
       "      <td>178</td>\n",
       "      <td>0</td>\n",
       "      <td>0.8</td>\n",
       "      <td>2</td>\n",
       "      <td>0</td>\n",
       "      <td>2</td>\n",
       "      <td>1</td>\n",
       "    </tr>\n",
       "    <tr>\n",
       "      <th>4</th>\n",
       "      <td>57</td>\n",
       "      <td>0</td>\n",
       "      <td>0</td>\n",
       "      <td>120</td>\n",
       "      <td>354</td>\n",
       "      <td>0</td>\n",
       "      <td>1</td>\n",
       "      <td>163</td>\n",
       "      <td>1</td>\n",
       "      <td>0.6</td>\n",
       "      <td>2</td>\n",
       "      <td>0</td>\n",
       "      <td>2</td>\n",
       "      <td>1</td>\n",
       "    </tr>\n",
       "    <tr>\n",
       "      <th>...</th>\n",
       "      <td>...</td>\n",
       "      <td>...</td>\n",
       "      <td>...</td>\n",
       "      <td>...</td>\n",
       "      <td>...</td>\n",
       "      <td>...</td>\n",
       "      <td>...</td>\n",
       "      <td>...</td>\n",
       "      <td>...</td>\n",
       "      <td>...</td>\n",
       "      <td>...</td>\n",
       "      <td>...</td>\n",
       "      <td>...</td>\n",
       "      <td>...</td>\n",
       "    </tr>\n",
       "    <tr>\n",
       "      <th>297</th>\n",
       "      <td>57</td>\n",
       "      <td>0</td>\n",
       "      <td>0</td>\n",
       "      <td>140</td>\n",
       "      <td>241</td>\n",
       "      <td>0</td>\n",
       "      <td>1</td>\n",
       "      <td>123</td>\n",
       "      <td>1</td>\n",
       "      <td>0.2</td>\n",
       "      <td>1</td>\n",
       "      <td>0</td>\n",
       "      <td>3</td>\n",
       "      <td>0</td>\n",
       "    </tr>\n",
       "    <tr>\n",
       "      <th>298</th>\n",
       "      <td>45</td>\n",
       "      <td>1</td>\n",
       "      <td>3</td>\n",
       "      <td>110</td>\n",
       "      <td>264</td>\n",
       "      <td>0</td>\n",
       "      <td>1</td>\n",
       "      <td>132</td>\n",
       "      <td>0</td>\n",
       "      <td>1.2</td>\n",
       "      <td>1</td>\n",
       "      <td>0</td>\n",
       "      <td>3</td>\n",
       "      <td>0</td>\n",
       "    </tr>\n",
       "    <tr>\n",
       "      <th>299</th>\n",
       "      <td>68</td>\n",
       "      <td>1</td>\n",
       "      <td>0</td>\n",
       "      <td>144</td>\n",
       "      <td>193</td>\n",
       "      <td>1</td>\n",
       "      <td>1</td>\n",
       "      <td>141</td>\n",
       "      <td>0</td>\n",
       "      <td>3.4</td>\n",
       "      <td>1</td>\n",
       "      <td>2</td>\n",
       "      <td>3</td>\n",
       "      <td>0</td>\n",
       "    </tr>\n",
       "    <tr>\n",
       "      <th>300</th>\n",
       "      <td>57</td>\n",
       "      <td>1</td>\n",
       "      <td>0</td>\n",
       "      <td>130</td>\n",
       "      <td>131</td>\n",
       "      <td>0</td>\n",
       "      <td>1</td>\n",
       "      <td>115</td>\n",
       "      <td>1</td>\n",
       "      <td>1.2</td>\n",
       "      <td>1</td>\n",
       "      <td>1</td>\n",
       "      <td>3</td>\n",
       "      <td>0</td>\n",
       "    </tr>\n",
       "    <tr>\n",
       "      <th>301</th>\n",
       "      <td>57</td>\n",
       "      <td>0</td>\n",
       "      <td>1</td>\n",
       "      <td>130</td>\n",
       "      <td>236</td>\n",
       "      <td>0</td>\n",
       "      <td>0</td>\n",
       "      <td>174</td>\n",
       "      <td>0</td>\n",
       "      <td>0.0</td>\n",
       "      <td>1</td>\n",
       "      <td>1</td>\n",
       "      <td>2</td>\n",
       "      <td>0</td>\n",
       "    </tr>\n",
       "  </tbody>\n",
       "</table>\n",
       "<p>302 rows × 14 columns</p>\n",
       "</div>"
      ],
      "text/plain": [
       "     age  sex  cp  trestbps  chol  fbs  restecg  thalach  exang  oldpeak  \\\n",
       "0     63    1   3       145   233    1        0      150      0      2.3   \n",
       "1     37    1   2       130   250    0        1      187      0      3.5   \n",
       "2     41    0   1       130   204    0        0      172      0      1.4   \n",
       "3     56    1   1       120   236    0        1      178      0      0.8   \n",
       "4     57    0   0       120   354    0        1      163      1      0.6   \n",
       "..   ...  ...  ..       ...   ...  ...      ...      ...    ...      ...   \n",
       "297   57    0   0       140   241    0        1      123      1      0.2   \n",
       "298   45    1   3       110   264    0        1      132      0      1.2   \n",
       "299   68    1   0       144   193    1        1      141      0      3.4   \n",
       "300   57    1   0       130   131    0        1      115      1      1.2   \n",
       "301   57    0   1       130   236    0        0      174      0      0.0   \n",
       "\n",
       "     slope  ca  thal  target  \n",
       "0        0   0     1       1  \n",
       "1        0   0     2       1  \n",
       "2        2   0     2       1  \n",
       "3        2   0     2       1  \n",
       "4        2   0     2       1  \n",
       "..     ...  ..   ...     ...  \n",
       "297      1   0     3       0  \n",
       "298      1   0     3       0  \n",
       "299      1   2     3       0  \n",
       "300      1   1     3       0  \n",
       "301      1   1     2       0  \n",
       "\n",
       "[302 rows x 14 columns]"
      ]
     },
     "execution_count": 19,
     "metadata": {},
     "output_type": "execute_result"
    }
   ],
   "source": [
    "df_heart_diseases"
   ]
  },
  {
   "cell_type": "code",
   "execution_count": 20,
   "id": "334d8b2f-a7f4-4e10-a523-6f198693ab49",
   "metadata": {},
   "outputs": [
    {
     "data": {
      "text/plain": [
       "['Gaussian_HeartDisease.joblib']"
      ]
     },
     "execution_count": 20,
     "metadata": {},
     "output_type": "execute_result"
    }
   ],
   "source": [
    "# sauvegarde du modèle\n",
    "\n",
    "joblib.dump(nb_model, 'Gaussian_HeartDisease.joblib')"
   ]
  }
 ],
 "metadata": {
  "kernelspec": {
   "display_name": "Python 3 (ipykernel)",
   "language": "python",
   "name": "python3"
  },
  "language_info": {
   "codemirror_mode": {
    "name": "ipython",
    "version": 3
   },
   "file_extension": ".py",
   "mimetype": "text/x-python",
   "name": "python",
   "nbconvert_exporter": "python",
   "pygments_lexer": "ipython3",
   "version": "3.11.5"
  }
 },
 "nbformat": 4,
 "nbformat_minor": 5
}
